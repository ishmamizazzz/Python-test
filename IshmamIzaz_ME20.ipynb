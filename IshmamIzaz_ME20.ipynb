{
  "nbformat": 4,
  "nbformat_minor": 0,
  "metadata": {
    "colab": {
      "name": "IshmamIzaz_ME20.ipynb",
      "provenance": [],
      "collapsed_sections": [],
      "authorship_tag": "ABX9TyOqW6eqMuGdzOkTiCERsYAS",
      "include_colab_link": true
    },
    "kernelspec": {
      "name": "python3",
      "display_name": "Python 3"
    },
    "language_info": {
      "name": "python"
    }
  },
  "cells": [
    {
      "cell_type": "markdown",
      "metadata": {
        "id": "view-in-github",
        "colab_type": "text"
      },
      "source": [
        "<a href=\"https://colab.research.google.com/github/ishmamizazzz/Python-test/blob/main/IshmamIzaz_ME20.ipynb\" target=\"_parent\"><img src=\"https://colab.research.google.com/assets/colab-badge.svg\" alt=\"Open In Colab\"/></a>"
      ]
    },
    {
      "cell_type": "markdown",
      "metadata": {
        "id": "EtWieJBEqkwy"
      },
      "source": [
        "# **Problem No 01:**  Write a Python program to find those numbers which are divisible by 8 and 3 but multiple of 9, between 1000 and 1800"
      ]
    },
    {
      "cell_type": "code",
      "metadata": {
        "colab": {
          "base_uri": "https://localhost:8080/"
        },
        "id": "ABDOmqN43sOT",
        "outputId": "0ec64605-2704-4b35-b4fa-a37b31a20a39"
      },
      "source": [
        "a = int(input(\"Enter a number: \"))\n",
        "if (a % 8 == 0 and a % 3 == 0 and a % 9 == 0 and 1000 < a < 1800):\n",
        "    print(a,\"is divisible by 8 and 3 but again multiple of 9, between 1000 and 1800\")\n",
        "else:\n",
        "    print(\"Doesn't satisfies the condition\")"
      ],
      "execution_count": 2,
      "outputs": [
        {
          "output_type": "stream",
          "text": [
            "Enter a number: 1584\n",
            "1584 is divisible by 8 and 3 but again multiple of 9, between 1000 and 1800\n"
          ],
          "name": "stdout"
        }
      ]
    },
    {
      "cell_type": "markdown",
      "metadata": {
        "id": "STqeaQOotGhZ"
      },
      "source": [
        "# **Problem No 02:** \n",
        "touple = ('I','E','E','E','H','S','T','U','S','B')\n",
        "Using this touple, write a program whose output will be IEEE HSTU SB."
      ]
    },
    {
      "cell_type": "code",
      "metadata": {
        "colab": {
          "base_uri": "https://localhost:8080/"
        },
        "id": "9uMDnbayuPPg",
        "outputId": "ae51ebbc-296e-4296-af05-b200e5e6e718"
      },
      "source": [
        "touple=[ 'I','E','E','E',' ' 'H','S','T','U',' ' 'S','B' ]\n",
        "\n",
        "a=''.join(touple)\n",
        "print ('Output:', a)"
      ],
      "execution_count": 42,
      "outputs": [
        {
          "output_type": "stream",
          "text": [
            "Output: IEEE HSTU SB\n"
          ],
          "name": "stdout"
        }
      ]
    },
    {
      "cell_type": "markdown",
      "metadata": {
        "id": "_cvnjip_qmmi"
      },
      "source": [
        "# **Problem No 03:** Write a Python program to check a triangle is equilateral, isosceles or scalene."
      ]
    },
    {
      "cell_type": "code",
      "metadata": {
        "colab": {
          "base_uri": "https://localhost:8080/"
        },
        "id": "55m3HzGKudg7",
        "outputId": "b2c7c716-3481-480c-ac7c-68bc7f9e67e1"
      },
      "source": [
        "print(\"Input lengths of the triangle sides: \")\n",
        "a = int(input(\"a: \"))\n",
        "b = int(input(\"b: \"))\n",
        "c = int(input(\"c: \"))\n",
        "\n",
        "if a == b == c:\n",
        "\tprint(\"Equilateral triangle\")\n",
        "elif a==b or b==c or c==a:\n",
        "\tprint(\"isosceles triangle\")\n",
        "else:\n",
        "\tprint(\"Scalene triangle\")"
      ],
      "execution_count": 4,
      "outputs": [
        {
          "output_type": "stream",
          "text": [
            "Input lengths of the triangle sides: \n",
            "a: 5\n",
            "b: 5\n",
            "c: 6\n",
            "isosceles triangle\n"
          ],
          "name": "stdout"
        }
      ]
    },
    {
      "cell_type": "markdown",
      "metadata": {
        "id": "suUysbtxwflh"
      },
      "source": [
        "# **Problem No 04:**  Write a Python program to create the multiplication table of a number"
      ]
    },
    {
      "cell_type": "code",
      "metadata": {
        "colab": {
          "base_uri": "https://localhost:8080/"
        },
        "id": "CRlEDtaGzYJT",
        "outputId": "7eacca13-206a-45d2-ce96-2d6db219f2cd"
      },
      "source": [
        "n = int(input(\"Input a number: \"))\n",
        "for i in range(1,11):\n",
        "   print(n,'*',i,'=',n*i)"
      ],
      "execution_count": 7,
      "outputs": [
        {
          "output_type": "stream",
          "text": [
            "Input a number: 3\n",
            "3 * 1 = 3\n",
            "3 * 2 = 6\n",
            "3 * 3 = 9\n",
            "3 * 4 = 12\n",
            "3 * 5 = 15\n",
            "3 * 6 = 18\n",
            "3 * 7 = 21\n",
            "3 * 8 = 24\n",
            "3 * 9 = 27\n",
            "3 * 10 = 30\n"
          ],
          "name": "stdout"
        }
      ]
    },
    {
      "cell_type": "markdown",
      "metadata": {
        "id": "BheT-tVCz1HS"
      },
      "source": [
        "# **Problem No 05:** Write a python program to check whether a given year is a leap year"
      ]
    },
    {
      "cell_type": "code",
      "metadata": {
        "colab": {
          "base_uri": "https://localhost:8080/"
        },
        "id": "4WX0nkJq0zw1",
        "outputId": "12a93173-6141-48e2-d271-acf6ed8ed79d"
      },
      "source": [
        "#finding leap year\n",
        "year = int(input(\"Enter a year: \"))\n",
        "if (year % 4) == 0:\n",
        "   if (year % 100) == 0:\n",
        "       if (year % 400) == 0:\n",
        "           print(\"{0} is a leap year\".format(year))\n",
        "       else:\n",
        "           print(\"{0} is not a leap year\".format(year))\n",
        "   else:\n",
        "       print(\"{0} is a leap year\".format(year))\n",
        "else:3\n",
        "print(\"{0} is not a leap year\".format(year))"
      ],
      "execution_count": 12,
      "outputs": [
        {
          "output_type": "stream",
          "text": [
            "Enter a year: 2003\n",
            "2003 is not a leap year\n"
          ],
          "name": "stdout"
        }
      ]
    },
    {
      "cell_type": "markdown",
      "metadata": {
        "id": "RBwdkO5y1ML1"
      },
      "source": [
        "# **Problem No 06:** Write the programs to get the areas of  a) triangle, b)Rectangle, c) circle."
      ]
    },
    {
      "cell_type": "code",
      "metadata": {
        "colab": {
          "base_uri": "https://localhost:8080/"
        },
        "id": "Zggk8gyL3-x2",
        "outputId": "9af8d493-af35-40b3-82aa-c69e6f9c66d3"
      },
      "source": [
        "#For triangle\n",
        "b= int(input(\"Input the base : \"))\n",
        "h= int(input(\"Input the height : \"))\n",
        "\n",
        "area = b*h/2\n",
        "\n",
        "print(\"area = \", area)"
      ],
      "execution_count": 16,
      "outputs": [
        {
          "output_type": "stream",
          "text": [
            "Input the base : 10\n",
            "Input the height : 12\n",
            "area =  60.0\n"
          ],
          "name": "stdout"
        }
      ]
    },
    {
      "cell_type": "code",
      "metadata": {
        "colab": {
          "base_uri": "https://localhost:8080/"
        },
        "id": "tHUyoSAt6YfR",
        "outputId": "6e86bdaa-ad8a-47b6-fe0f-d7895183a419"
      },
      "source": [
        "#For rectangle\t\t\t\t\t\t\t\n",
        "l=int(input(\"Enter the length:\"))\n",
        "b=int(input(\"Enter the breadth:\"))\n",
        "area=l*b\n",
        "print(\"area: {}\".format(area))"
      ],
      "execution_count": 13,
      "outputs": [
        {
          "output_type": "stream",
          "text": [
            "Enter the length:20\n",
            "Enter the breadth:20\n",
            "area: 400\n"
          ],
          "name": "stdout"
        }
      ]
    },
    {
      "cell_type": "code",
      "metadata": {
        "colab": {
          "base_uri": "https://localhost:8080/"
        },
        "id": "eXNWSurPHG-v",
        "outputId": "128f0a0e-90d0-41fc-c272-f5ee414aa892"
      },
      "source": [
        "#For circle\n",
        "r=int(input(\"Enter the radius:\"))\n",
        "area=3.1416*r*r\n",
        "print(\"area: {}\".format(area))"
      ],
      "execution_count": 43,
      "outputs": [
        {
          "output_type": "stream",
          "text": [
            "Enter the radius:5\n",
            "area: 78.54\n"
          ],
          "name": "stdout"
        }
      ]
    }
  ]
}