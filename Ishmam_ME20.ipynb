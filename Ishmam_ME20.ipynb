{
  "nbformat": 4,
  "nbformat_minor": 0,
  "metadata": {
    "colab": {
      "name": "Ishmam_ME20.ipynb",
      "provenance": [],
      "collapsed_sections": [],
      "authorship_tag": "ABX9TyO+cwJmxWheLEXn1IaaRaFJ",
      "include_colab_link": true
    },
    "kernelspec": {
      "name": "python3",
      "display_name": "Python 3"
    },
    "language_info": {
      "name": "python"
    }
  },
  "cells": [
    {
      "cell_type": "markdown",
      "metadata": {
        "id": "view-in-github",
        "colab_type": "text"
      },
      "source": [
        "<a href=\"https://colab.research.google.com/github/ishmamizazzz/Python-test/blob/main/Ishmam_ME20.ipynb\" target=\"_parent\"><img src=\"https://colab.research.google.com/assets/colab-badge.svg\" alt=\"Open In Colab\"/></a>"
      ]
    },
    {
      "cell_type": "markdown",
      "metadata": {
        "id": "eiFfEQSwuO7E"
      },
      "source": [
        "## **Flow Control:** The statement which control execution flow at runtime are called flow control"
      ]
    },
    {
      "cell_type": "markdown",
      "metadata": {
        "id": "9QzZoQg-uQh5"
      },
      "source": [
        "# **Flow Control Statements:**"
      ]
    },
    {
      "cell_type": "markdown",
      "metadata": {
        "id": "RNnnvJ8I45LS"
      },
      "source": [
        "(Conditional Statements): if Statement,\n",
        "if else Statement,\n",
        "if elif Statement,\n",
        "if elif else statement\n",
        "\n",
        "(Iterative Statement): while Statement,\n",
        "for Statement\n",
        "\n",
        "(Transfer Statements): break Statement,\n",
        "continue Statement\n",
        "\n",
        "else Clause on Loop Statements\n",
        "\n",
        "pass Statement\n",
        "\n",
        " try Statement"
      ]
    },
    {
      "cell_type": "markdown",
      "metadata": {
        "id": "Xkg--seY7sh6"
      },
      "source": [
        "## **Conditional Statement** in Python perform different computations or actions depending on whether a specific Boolean constraint evaluates to true or false. Conditional statements are handled by IF statements in Python."
      ]
    },
    {
      "cell_type": "markdown",
      "metadata": {
        "id": "yeIrX7zIItQK"
      },
      "source": [
        "**Structure of Conditional Statements:**\n",
        "\n",
        "A conditional statement uses a syntax structure based on if and else statements (each ending with a colon :) that define the potential actions that can be completed based on whether the condition is true or not. If the condition provided with the if statement is satisfied (i.e. results in a value of True), then a certain code will execute. If that condition is not met (i.e. results in a value of False), then the code provided with the else statement will execute."
      ]
    },
    {
      "cell_type": "markdown",
      "metadata": {
        "id": "HIMJYKQFHnmy"
      },
      "source": [
        "# **Problem No: 01**"
      ]
    },
    {
      "cell_type": "code",
      "metadata": {
        "colab": {
          "base_uri": "https://localhost:8080/"
        },
        "id": "OE1-TmZzHoiE",
        "outputId": "cccaec7b-6b50-4eef-eb9a-94ccec889b10"
      },
      "source": [
        "num = int(input(\"Enter a number: \"))\n",
        "if (num % 2) == 0:\n",
        "   print(\"{0} is Even\".format(num))\n",
        "else:\n",
        "   print(\"{0} is Odd\".format(num))"
      ],
      "execution_count": null,
      "outputs": [
        {
          "output_type": "stream",
          "text": [
            "Enter a number: 25\n",
            "25 is Odd\n"
          ],
          "name": "stdout"
        }
      ]
    },
    {
      "cell_type": "markdown",
      "metadata": {
        "id": "T_nGxjuLM9fg"
      },
      "source": [
        "# **Problem No: 02**"
      ]
    },
    {
      "cell_type": "code",
      "metadata": {
        "colab": {
          "base_uri": "https://localhost:8080/"
        },
        "id": "ABDOmqN43sOT",
        "outputId": "f89ad55d-c1e1-450c-9f22-cc8e4c1dc25f"
      },
      "source": [
        "#1st part\n",
        "a = int(input(\"Enter a number : \"))\n",
        "if a>=100 and a<200 :\n",
        "    if a % 9 == 0 :\n",
        "         print(\"this number is divisible by 9 \")\n",
        "    else:\n",
        "        print(\"In range but not devided by 9 \")         \n",
        "else :\n",
        "    print(\"Not in range \")\n",
        "#2nd part\n",
        "b = int(input(\"Enter a number: \"))\n",
        "if (b % 7 == 0 and b % 5 == 0 and 100 < b < 500):\n",
        "    print(b,\"is divisible by 7 and multiple of 5, between 500 and 100\")\n",
        "else:\n",
        "    print(\"Doesn't satisfies the condition\")"
      ],
      "execution_count": 17,
      "outputs": [
        {
          "output_type": "stream",
          "text": [
            "Enter a number : 210\n",
            "Not in range \n",
            "Enter a number: 210\n",
            "210 is divisible by 7 and multiple of 5, between 500 and 100\n"
          ],
          "name": "stdout"
        }
      ]
    },
    {
      "cell_type": "markdown",
      "metadata": {
        "id": "KBsnojAUF4PW"
      },
      "source": [
        "# **Problem No: 03**"
      ]
    },
    {
      "cell_type": "code",
      "metadata": {
        "colab": {
          "base_uri": "https://localhost:8080/"
        },
        "id": "JPCWfIYnM-Us",
        "outputId": "8bbce6de-71fd-4806-ff25-da779db62452"
      },
      "source": [
        "#finding leap year\n",
        "year = int(input(\"Enter a year: \"))\n",
        "if (year % 4) == 0:\n",
        "   if (year % 100) == 0:\n",
        "       if (year % 400) == 0:\n",
        "           print(\"{0} is a leap year\".format(year))\n",
        "       else:\n",
        "           print(\"{0} is not a leap year\".format(year))\n",
        "   else:\n",
        "       print(\"{0} is a leap year\".format(year))\n",
        "else:\n",
        "   print(\"{0} is not a leap year\".format(year))"
      ],
      "execution_count": null,
      "outputs": [
        {
          "output_type": "stream",
          "text": [
            "Enter a year: 2007\n",
            "2007 is not a leap year\n"
          ],
          "name": "stdout"
        }
      ]
    },
    {
      "cell_type": "markdown",
      "metadata": {
        "id": "hd6M7JN-FiCK"
      },
      "source": [
        "# **Problem No: 04**\n"
      ]
    },
    {
      "cell_type": "code",
      "metadata": {
        "colab": {
          "base_uri": "https://localhost:8080/"
        },
        "id": "pzUGz5Y2GAUP",
        "outputId": "3a152f4b-bf10-4259-dacf-5a37e3dfa0f7"
      },
      "source": [
        "a= input(\"Enter a arithmetic sign : \")\n",
        "b= int(input(\"Enter 1st number :\"))\n",
        "c= int(input(\"Enter 2nd number \"))\n",
        "if a == \"+\" :\n",
        "    print(b,\"+\",c,\"=\",b+c)\n",
        "elif a == \"-\" :\n",
        "    print(b,\"-\",c,\"=\",b-c)\n",
        "elif a == \"*\" :\n",
        "    print(b,\"*\",c,\"=\",b*c)\n",
        "elif a == \"/\" :\n",
        "    print(b,\"/\",c,\"=\",b/c)\n",
        "else :\n",
        "    print(\"Invalid Operator\")"
      ],
      "execution_count": 2,
      "outputs": [
        {
          "output_type": "stream",
          "text": [
            "Enter a arithmetic sign : -\n",
            "Enter 1st number :5\n",
            "Enter 2nd number 9\n",
            "5 - 9 = -4\n"
          ],
          "name": "stdout"
        }
      ]
    },
    {
      "cell_type": "markdown",
      "metadata": {
        "id": "x4RpebibJqC8"
      },
      "source": [
        "# **Problem No: 05**"
      ]
    },
    {
      "cell_type": "code",
      "metadata": {
        "colab": {
          "base_uri": "https://localhost:8080/"
        },
        "id": "8447ymU6JuFF",
        "outputId": "b5fc0ce5-9345-4d65-b537-3a9011bbce3b"
      },
      "source": [
        "num = float(input(\"Enter a number: \"))\n",
        "if num > 0:\n",
        "   print(\"Positive number\")\n",
        "elif num == 0:\n",
        "   print(\"Zero\")\n",
        "else:\n",
        "   print(\"Negative number\")"
      ],
      "execution_count": 3,
      "outputs": [
        {
          "output_type": "stream",
          "text": [
            "Enter a number: -30\n",
            "Negative number\n"
          ],
          "name": "stdout"
        }
      ]
    },
    {
      "cell_type": "markdown",
      "metadata": {
        "id": "exfcbIelL3XI"
      },
      "source": [
        "# **Problem No: 06**"
      ]
    },
    {
      "cell_type": "code",
      "metadata": {
        "colab": {
          "base_uri": "https://localhost:8080/"
        },
        "id": "8aDzk5tUMAIt",
        "outputId": "b7c6428c-70ed-4689-d203-79654cb62596"
      },
      "source": [
        "a=float(input(\"Enter the length of the figure:\"))\n",
        "\n",
        "b=float(input(\"Enter the breadth of the figure:\"))\n",
        "\n",
        "if a==b:\n",
        "\n",
        "   print(\"The figure is a square\")\n",
        "\n",
        "else:\n",
        "\n",
        "   print(\"The figure is not a square\")"
      ],
      "execution_count": 4,
      "outputs": [
        {
          "output_type": "stream",
          "text": [
            "Enter the length of the figure:20\n",
            "Enter the breadth of the figure:20\n",
            "The figure is a square\n"
          ],
          "name": "stdout"
        }
      ]
    },
    {
      "cell_type": "markdown",
      "metadata": {
        "id": "RDLHFkFkOTVP"
      },
      "source": [
        "# **Problem No: 07**"
      ]
    },
    {
      "cell_type": "code",
      "metadata": {
        "colab": {
          "base_uri": "https://localhost:8080/"
        },
        "id": "wbE8JFW1OW5E",
        "outputId": "c19cfe08-3639-4575-c8d9-c9be779e80fd"
      },
      "source": [
        "a = float(input(\"Enter first number: \"))\n",
        "b = float(input(\"Enter second number: \"))\n",
        "c = float(input(\"Enter third number: \"))\n",
        "\n",
        "if (a >= b) and (a >= c):\n",
        "   largest = a\n",
        "elif (b >= a) and (b >= c):\n",
        "   largest = b\n",
        "else:\n",
        "   largest = c\n",
        "\n",
        "print(\"The largest number is\", largest)\n",
        "\n",
        "if (a<b) and (a<c):\n",
        "    lowest=a\n",
        "elif (b<c):\n",
        "    lowest=b\n",
        "else:\n",
        "    lowest=c\n",
        "print(\"The lowest number is\", lowest)"
      ],
      "execution_count": 7,
      "outputs": [
        {
          "output_type": "stream",
          "text": [
            "Enter first number: 15\n",
            "Enter second number: 19\n",
            "Enter third number: 13\n",
            "The largest number is 19.0\n",
            "The lowest number is 13.0\n"
          ],
          "name": "stdout"
        }
      ]
    },
    {
      "cell_type": "markdown",
      "metadata": {
        "id": "Guft2FEqOXTO"
      },
      "source": [
        "# **Problem No: 08**\n"
      ]
    },
    {
      "cell_type": "code",
      "metadata": {
        "colab": {
          "base_uri": "https://localhost:8080/"
        },
        "id": "vN3d0qjhOf5e",
        "outputId": "8598fafd-f67f-4894-c20a-52f47863f349"
      },
      "source": [
        "#HSTU grading structure\n",
        "Sub=int(input(\"Enter Marks :\"))\n",
        "if(Sub>=80):\n",
        "    print(\"A+\")\n",
        "elif(Sub>=75 and Sub<80):\n",
        "    print(\"A\")\n",
        "elif(Sub>=70 and Sub<75):\n",
        "    print(\"A-\")\n",
        "elif(Sub>=65 and Sub<70):\n",
        "    print(\"B+\")\n",
        "elif(Sub>=60 and Sub<65):\n",
        "    print(\"B\")\n",
        "elif(Sub>=55 and Sub<60):\n",
        "    print(\"B-\")\n",
        "elif(Sub>=50 and Sub<55):\n",
        "    print(\"C+\")\n",
        "elif(Sub>=45 and Sub<50):\n",
        "    print(\"C\")\n",
        "elif(Sub>=40 and Sub<45):\n",
        "    print(\"D\")\n",
        "else:\n",
        "    print(\"F\")"
      ],
      "execution_count": 18,
      "outputs": [
        {
          "output_type": "stream",
          "text": [
            "Enter Marks :75\n",
            "A\n"
          ],
          "name": "stdout"
        }
      ]
    }
  ]
}