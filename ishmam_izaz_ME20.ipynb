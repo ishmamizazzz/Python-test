{
  "nbformat": 4,
  "nbformat_minor": 0,
  "metadata": {
    "colab": {
      "name": "ishmam_izaz_ME20.ipynb",
      "provenance": [],
      "collapsed_sections": []
    },
    "kernelspec": {
      "name": "python3",
      "display_name": "Python 3"
    }
  },
  "cells": [
    {
      "cell_type": "markdown",
      "metadata": {
        "id": "xHa6II09FUcs"
      },
      "source": [
        "**Data types** are the classification or categorization of data items. It represents the kind of value that tells what operations can be performed on a particular data."
      ]
    },
    {
      "cell_type": "markdown",
      "metadata": {
        "id": "jgbr1s5g9E2u"
      },
      "source": [
        "# **Data Types:**"
      ]
    },
    {
      "cell_type": "markdown",
      "metadata": {
        "id": "mFC4qm-dHDPK"
      },
      "source": [
        "Text Type:\tstr\r\n",
        "\r\n",
        "Numeric Types:\tint, float, complex\r\n",
        "\r\n",
        "Sequence Types:\tlist, tuple, range\r\n",
        "\r\n",
        "Mapping Type:\tdict\r\n",
        "\r\n",
        "Set Types:\tset, frozenset\r\n",
        "\r\n",
        "Boolean Type:\tbool\r\n",
        "\r\n",
        "Binary Types:\tbytes, bytearray, memoryview"
      ]
    },
    {
      "cell_type": "markdown",
      "metadata": {
        "id": "O5m_-02D9iqE"
      },
      "source": [
        "# **Input And Output**"
      ]
    },
    {
      "cell_type": "markdown",
      "metadata": {
        "id": "gAgnfl_2_V5b"
      },
      "source": [
        "  Object to the printed indicates that there may be more than one object"
      ]
    },
    {
      "cell_type": "code",
      "metadata": {
        "id": "Vrgd9YRa_tDJ"
      },
      "source": [
        "#Printing more than one object\r\n",
        "print(\"Hello\", \"how are you?\")"
      ],
      "execution_count": null,
      "outputs": []
    },
    {
      "cell_type": "markdown",
      "metadata": {
        "id": "2JYZuUvG9NwP"
      },
      "source": [
        "The separator between the arguments to print() function in Python is space by default, which can be modified and can be made to any character, integer or string as per our choice"
      ]
    },
    {
      "cell_type": "code",
      "metadata": {
        "id": "V94O97Tw9viy"
      },
      "source": [
        "print('A','B','C', sep='')"
      ],
      "execution_count": null,
      "outputs": []
    },
    {
      "cell_type": "markdown",
      "metadata": {
        "id": "lB-xDjJm-H9n"
      },
      "source": [
        "Specify what to print at the end. Default is line feed ('\\n')."
      ]
    },
    {
      "cell_type": "code",
      "metadata": {
        "id": "5RwhDfvu_AYV"
      },
      "source": [
        "print(\"Welcome to\" , end = ' ') "
      ],
      "execution_count": null,
      "outputs": []
    },
    {
      "cell_type": "markdown",
      "metadata": {
        "id": "946sbxL0_3LD"
      },
      "source": [
        "File must be an object with write(string) method. If omitted it,sys.stdout will be used which prints objects on the screen."
      ]
    },
    {
      "cell_type": "code",
      "metadata": {
        "id": "rqAugn4p_4nf"
      },
      "source": [
        "sourceFile = open('python.txt', 'w')\r\n",
        "print('Pretty cool, huh!', file = sourceFile)\r\n",
        "sourceFile.close()"
      ],
      "execution_count": null,
      "outputs": []
    },
    {
      "cell_type": "markdown",
      "metadata": {
        "id": "sQ0iJ98-_5B1"
      },
      "source": [
        "If True, the stream is forcibly flushed. Default value: False"
      ]
    },
    {
      "cell_type": "markdown",
      "metadata": {
        "id": "gvrrfehkIHlZ"
      },
      "source": [
        "**Operators** are used to perform operations on variables and values."
      ]
    },
    {
      "cell_type": "markdown",
      "metadata": {
        "id": "BSk2yYrdJNM6"
      },
      "source": [
        "# **Some of operators:**\r\n",
        "\r\n",
        "Addition (+) : Addition operators are used with numeric values to \r\n",
        "perform common mathematical operations .\r\n",
        "\r\n",
        "Equal (==) : Equal operators are used to compare two values.\r\n",
        "\r\n",
        "And : And operators are used to combine conditional statements.\r\n",
        "\r\n"
      ]
    },
    {
      "cell_type": "code",
      "metadata": {
        "colab": {
          "base_uri": "https://localhost:8080/"
        },
        "id": "Gvkb8zuJK57c",
        "outputId": "b021d6f7-8d66-4508-82b2-17752a804eed"
      },
      "source": [
        "#Addition\r\n",
        "A=4 \r\n",
        "B=3\r\n",
        "print(A+B)"
      ],
      "execution_count": null,
      "outputs": [
        {
          "output_type": "stream",
          "text": [
            "7\n"
          ],
          "name": "stdout"
        }
      ]
    },
    {
      "cell_type": "code",
      "metadata": {
        "colab": {
          "base_uri": "https://localhost:8080/"
        },
        "id": "v3o2t0cdOE_Y",
        "outputId": "7296ba04-f3ae-49f8-f138-f7a8f8e75edc"
      },
      "source": [
        "#Equal Operator\r\n",
        "A=3\r\n",
        "B=4\r\n",
        "print(A==B)"
      ],
      "execution_count": null,
      "outputs": [
        {
          "output_type": "stream",
          "text": [
            "False\n"
          ],
          "name": "stdout"
        }
      ]
    },
    {
      "cell_type": "code",
      "metadata": {
        "colab": {
          "base_uri": "https://localhost:8080/"
        },
        "id": "EqRKjpGVOl1n",
        "outputId": "ae2838ff-4a29-4d6c-fa05-a02989c9c702"
      },
      "source": [
        "#And Operator \r\n",
        "A=4\r\n",
        "print(A>2 and A<7)"
      ],
      "execution_count": null,
      "outputs": [
        {
          "output_type": "stream",
          "text": [
            "True\n"
          ],
          "name": "stdout"
        }
      ]
    },
    {
      "cell_type": "markdown",
      "metadata": {
        "id": "ipNt28UrSWfE"
      },
      "source": [
        "# **Problem No : 01**"
      ]
    },
    {
      "cell_type": "code",
      "metadata": {
        "colab": {
          "base_uri": "https://localhost:8080/"
        },
        "id": "OmgUPu-GSi_x",
        "outputId": "b39910ef-ffa5-490a-df71-197fa6575e20"
      },
      "source": [
        "Xlist = [1, 2, 3, 4, 5, 6 ]\r\n",
        "print(Xlist)\r\n",
        "Xlist1 = Xlist[2]\r\n",
        "print(Xlist1)\r\n"
      ],
      "execution_count": null,
      "outputs": [
        {
          "output_type": "stream",
          "text": [
            "[1, 2, 3, 4, 5, 6]\n",
            "3\n"
          ],
          "name": "stdout"
        }
      ]
    },
    {
      "cell_type": "markdown",
      "metadata": {
        "id": "5Vth-rsoWy4R"
      },
      "source": [
        "# **Problem No: 02**"
      ]
    },
    {
      "cell_type": "code",
      "metadata": {
        "colab": {
          "base_uri": "https://localhost:8080/"
        },
        "id": "3zkjKp9WaDO5",
        "outputId": "eae03338-71f9-4277-a0cd-9f8029bf5313"
      },
      "source": [
        "a = 3\r\n",
        "b = 5\r\n",
        "print(a+b)\r\n",
        "print(a-b)\r\n",
        "print(a*b)"
      ],
      "execution_count": null,
      "outputs": [
        {
          "output_type": "stream",
          "text": [
            "8\n",
            "-2\n",
            "15\n"
          ],
          "name": "stdout"
        }
      ]
    },
    {
      "cell_type": "markdown",
      "metadata": {
        "id": "vsGoY4ReG9ht"
      },
      "source": [
        "# **Problem No: 03**"
      ]
    },
    {
      "cell_type": "code",
      "metadata": {
        "colab": {
          "base_uri": "https://localhost:8080/"
        },
        "id": "NCSxjNCzQUM3",
        "outputId": "3c66f31a-4b0b-496b-d2b0-73552e3b9cfa"
      },
      "source": [
        "a = 3\r\n",
        "b = 5\r\n",
        "print(a//b)\r\n",
        "print(a/b)"
      ],
      "execution_count": null,
      "outputs": [
        {
          "output_type": "stream",
          "text": [
            "0\n",
            "0.6\n"
          ],
          "name": "stdout"
        }
      ]
    },
    {
      "cell_type": "markdown",
      "metadata": {
        "id": "ONrKLyESRKfY"
      },
      "source": [
        "# **Problem No : 04**"
      ]
    },
    {
      "cell_type": "code",
      "metadata": {
        "colab": {
          "base_uri": "https://localhost:8080/"
        },
        "id": "Su8qU6dVRcq-",
        "outputId": "2500bece-b274-4c44-b415-de352003dc8a"
      },
      "source": [
        "color_list = [\"Red\",\"Green\",\"White\" ,\"Black\"]\r\n",
        "print(color_list[0], color_list[-1])"
      ],
      "execution_count": null,
      "outputs": [
        {
          "output_type": "stream",
          "text": [
            "Red Black\n"
          ],
          "name": "stdout"
        }
      ]
    },
    {
      "cell_type": "markdown",
      "metadata": {
        "id": "MlenfjQRUoI-"
      },
      "source": [
        "# **Problem No: 05**"
      ]
    },
    {
      "cell_type": "code",
      "metadata": {
        "colab": {
          "base_uri": "https://localhost:8080/"
        },
        "id": "vEIPHzKgUrfD",
        "outputId": "6770d700-a4df-42f7-9fc9-5b0681156a94"
      },
      "source": [
        "mult =\"\"\"a string that you \"don't\" have to escape\r\n",
        "\r\n",
        "This\r\n",
        "is a ....... multi-line\r\n",
        "heredoc string\"\"\"\r\n",
        "print(mult)"
      ],
      "execution_count": null,
      "outputs": [
        {
          "output_type": "stream",
          "text": [
            "a string that you \"don't\" have to escape\n",
            "\n",
            "This\n",
            "is a ....... multi-line\n",
            "heredoc string\n"
          ],
          "name": "stdout"
        }
      ]
    },
    {
      "cell_type": "markdown",
      "metadata": {
        "id": "zleNWv0zVTuD"
      },
      "source": [
        "# **Problem No: 06**"
      ]
    },
    {
      "cell_type": "code",
      "metadata": {
        "colab": {
          "base_uri": "https://localhost:8080/"
        },
        "id": "m53fn6VnVXQK",
        "outputId": "e379a7d8-26ea-484c-c636-e13d19f560c1"
      },
      "source": [
        "b= int(input(\"Input the base : \"))\r\n",
        "h= int(input(\"Input the height : \"))\r\n",
        "\r\n",
        "area = b*h/2\r\n",
        "\r\n",
        "print(\"area = \", area)"
      ],
      "execution_count": null,
      "outputs": [
        {
          "output_type": "stream",
          "text": [
            "Input the base : 20\n",
            "Input the height : 10\n",
            "area =  100.0\n"
          ],
          "name": "stdout"
        }
      ]
    },
    {
      "cell_type": "markdown",
      "metadata": {
        "id": "gld2-9iHYBV-"
      },
      "source": [
        "# **Problem No: 07**"
      ]
    },
    {
      "cell_type": "code",
      "metadata": {
        "colab": {
          "base_uri": "https://localhost:8080/"
        },
        "id": "_kexh8_QYIPl",
        "outputId": "e76b3d96-b7b6-42ad-c0de-ae34ce4c51f2"
      },
      "source": [
        "mult = \"\"\"Name = Izaz\r\n",
        "Age = 21\r\n",
        "Address = Jashore, Bangladesh\"\"\"\r\n",
        "\r\n",
        "print(mult)"
      ],
      "execution_count": null,
      "outputs": [
        {
          "output_type": "stream",
          "text": [
            "Name = Izaz\n",
            "Age = 21\n",
            "Address = Jashore, Bangladesh\n"
          ],
          "name": "stdout"
        }
      ]
    },
    {
      "cell_type": "code",
      "metadata": {
        "colab": {
          "base_uri": "https://localhost:8080/"
        },
        "id": "VZwJull3YE9z",
        "outputId": "afef13ee-5eac-4d22-a675-bc64e35eae22"
      },
      "source": [
        "    name = \"Izaz\"\r\n",
        "    age = \"21\"\r\n",
        "    address = \"Jashore, Bangladesh\"\r\n",
        "    print(\"Name: {}\\nAge: {}\\nAddress: {}\".format(name, age, address))"
      ],
      "execution_count": null,
      "outputs": [
        {
          "output_type": "stream",
          "text": [
            "Name: Izaz\n",
            "Age: 21\n",
            "Address: Jashore, Bangladesh\n"
          ],
          "name": "stdout"
        }
      ]
    },
    {
      "cell_type": "markdown",
      "metadata": {
        "id": "2uK0r75jlG5N"
      },
      "source": [
        "# **Problem No: 08**"
      ]
    },
    {
      "cell_type": "code",
      "metadata": {
        "id": "-rQWmK0zlcV6"
      },
      "source": [
        "p = float(input(\"Enter the principal amount : \"))\r\n",
        " \r\n",
        "t = float(input(\"Enter the number of years : \"))\r\n",
        " \r\n",
        "r = float(input(\"Enter the rate of interest : \"))\r\n",
        "ci =  p * (pow((1 + r / 100), t)) \r\n",
        "print(\"Compound interest : {}\".format(ci))"
      ],
      "execution_count": null,
      "outputs": []
    },
    {
      "cell_type": "code",
      "metadata": {
        "id": "H_RsMWF3mqzu"
      },
      "source": [
        ""
      ],
      "execution_count": null,
      "outputs": []
    },
    {
      "cell_type": "markdown",
      "metadata": {
        "id": "lVnlNSdZmrVa"
      },
      "source": [
        "# **Problem No: 09**"
      ]
    },
    {
      "cell_type": "code",
      "metadata": {
        "colab": {
          "base_uri": "https://localhost:8080/"
        },
        "id": "bZ5p3NzjmwY6",
        "outputId": "660193ce-1ee5-458b-b1a2-ad990d0f862e"
      },
      "source": [
        "mult = \"\"\" * * * * *\r\n",
        "  * * * *\r\n",
        "   * * *\r\n",
        "    * *\r\n",
        "     * \"\"\"\r\n",
        "\r\n",
        "print(mult)"
      ],
      "execution_count": null,
      "outputs": [
        {
          "output_type": "stream",
          "text": [
            " * * * * *\n",
            "  * * * *\n",
            "   * * *\n",
            "    * *\n",
            "     * \n"
          ],
          "name": "stdout"
        }
      ]
    },
    {
      "cell_type": "markdown",
      "metadata": {
        "id": "CTgaWuRupJkr"
      },
      "source": [
        "# **Problem No: 10**"
      ]
    },
    {
      "cell_type": "code",
      "metadata": {
        "colab": {
          "base_uri": "https://localhost:8080/"
        },
        "id": "fkis8gRnpOQD",
        "outputId": "ac89b3f6-4176-4b6d-bca5-bf95d9fc4ae5"
      },
      "source": [
        "celsius = float(input(\"Enter temperature in celsius: \"))\r\n",
        "fahrenheit = (celsius * 9/5) + 32\r\n",
        "print('%.2f Celsius is: %0.2f Fahrenheit' %(celsius, fahrenheit))"
      ],
      "execution_count": null,
      "outputs": [
        {
          "output_type": "stream",
          "text": [
            "Enter temperature in celsius: 60\n",
            "60.00 Celsius is: 140.00 Fahrenheit\n"
          ],
          "name": "stdout"
        }
      ]
    }
  ]
}